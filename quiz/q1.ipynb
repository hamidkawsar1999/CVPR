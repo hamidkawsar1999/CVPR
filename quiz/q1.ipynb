{
 "cells": [
  {
   "cell_type": "markdown",
   "metadata": {},
   "source": [
    "* NAME: HAMID KAWSAR\n",
    "* ID: 19-40077-1"
   ]
  },
  {
   "cell_type": "code",
   "execution_count": 29,
   "metadata": {},
   "outputs": [],
   "source": [
    "import numpy as np\n",
    "import matplotlib.pyplot as plt"
   ]
  },
  {
   "cell_type": "markdown",
   "metadata": {},
   "source": [
    "#### STEP 1"
   ]
  },
  {
   "cell_type": "code",
   "execution_count": 30,
   "metadata": {},
   "outputs": [
    {
     "data": {
      "text/plain": [
       "[[0, 0], [1, 0], [1, 1], [0, 1], [-1, 1], [-1, 0], [-1, -1], [0, -1], [1, -1]]"
      ]
     },
     "execution_count": 30,
     "metadata": {},
     "output_type": "execute_result"
    }
   ],
   "source": [
    "def spiral(N, M):\n",
    "    x,y = 0,0   \n",
    "    dx, dy = 0, -1\n",
    "\n",
    "    for dumb in range(N*M):\n",
    "        if abs(x) == abs(y) and [dx,dy] != [1,0] or x>0 and y == 1-x:  \n",
    "            dx, dy = -dy, dx            \n",
    "\n",
    "        if abs(x)>N/2 or abs(y)>M/2:    \n",
    "            dx, dy = -dy, dx            \n",
    "            x, y = -y+dx, x+dy          \n",
    "\n",
    "        yield x, y\n",
    "        x, y = x+dx, y+dy\n",
    "        \n",
    "SPIRAL=[]\n",
    "Spiral=[]\n",
    "for a,b in spiral(3,3):\n",
    "    SPIRAL.append([a,b])\n",
    "    Spiral.append(a)\n",
    "    Spiral.append(b)\n",
    "        \n",
    "SPIRAL\n"
   ]
  },
  {
   "cell_type": "code",
   "execution_count": 31,
   "metadata": {},
   "outputs": [
    {
     "data": {
      "text/plain": [
       "[0, 0, 1, 0, 1, 1, 0, 1, -1, 1, -1, 0, -1, -1, 0, -1, 1, -1]"
      ]
     },
     "execution_count": 31,
     "metadata": {},
     "output_type": "execute_result"
    }
   ],
   "source": [
    "Spiral"
   ]
  },
  {
   "cell_type": "code",
   "execution_count": 18,
   "metadata": {},
   "outputs": [],
   "source": [
    "\n",
    "def plot_graph(y,ylabel):\n",
    "    plt.figure()\n",
    "    plt.plot(Spiral,y, 'o--')\n",
    "    plt.grid(True)\n",
    "    plt.xlabel(\"X\")\n",
    "    plt.ylabel(ylabel)\n",
    "    plt.show()"
   ]
  },
  {
   "cell_type": "code",
   "execution_count": 34,
   "metadata": {},
   "outputs": [],
   "source": [
    "T = ((np.exp(2*Spiral) - 1) / (np.exp(2*Spiral) + 1))\n",
    "#plot_graph(y, \"TanH(X)\")"
   ]
  },
  {
   "cell_type": "markdown",
   "metadata": {},
   "source": [
    "#### STEP 2"
   ]
  },
  {
   "cell_type": "code",
   "execution_count": 35,
   "metadata": {},
   "outputs": [
    {
     "data": {
      "text/plain": [
       "array([ 0.        ,  0.        ,  0.46211716,  0.        ,  0.46211716,\n",
       "        0.46211716,  0.        ,  0.46211716, -0.46211716,  0.46211716,\n",
       "       -0.46211716,  0.        , -0.46211716, -0.46211716,  0.        ,\n",
       "       -0.46211716,  0.46211716, -0.46211716,  0.        ,  0.        ,\n",
       "        0.46211716,  0.        ,  0.46211716,  0.46211716,  0.        ,\n",
       "        0.46211716, -0.46211716,  0.46211716, -0.46211716,  0.        ,\n",
       "       -0.46211716, -0.46211716,  0.        , -0.46211716,  0.46211716,\n",
       "       -0.46211716])"
      ]
     },
     "execution_count": 35,
     "metadata": {},
     "output_type": "execute_result"
    }
   ],
   "source": [
    "T"
   ]
  },
  {
   "cell_type": "code",
   "execution_count": 36,
   "metadata": {},
   "outputs": [
    {
     "data": {
      "text/plain": [
       "36"
      ]
     },
     "execution_count": 36,
     "metadata": {},
     "output_type": "execute_result"
    }
   ],
   "source": [
    "len(T)"
   ]
  },
  {
   "cell_type": "code",
   "execution_count": null,
   "metadata": {},
   "outputs": [],
   "source": [
    "for in range"
   ]
  }
 ],
 "metadata": {
  "kernelspec": {
   "display_name": "Python 3",
   "language": "python",
   "name": "python3"
  },
  "language_info": {
   "codemirror_mode": {
    "name": "ipython",
    "version": 3
   },
   "file_extension": ".py",
   "mimetype": "text/x-python",
   "name": "python",
   "nbconvert_exporter": "python",
   "pygments_lexer": "ipython3",
   "version": "3.8.5"
  }
 },
 "nbformat": 4,
 "nbformat_minor": 4
}
